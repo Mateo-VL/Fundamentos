{
 "cells": [
  {
   "cell_type": "code",
   "execution_count": null,
   "metadata": {},
   "outputs": [],
   "source": [
    "import numpy as np"
   ]
  },
  {
   "cell_type": "code",
   "execution_count": null,
   "metadata": {},
   "outputs": [],
   "source": [
    "def ej1(conj, k, y):\n",
    "    proba = 0\n",
    "    for i in range(len(conj)):\n",
    "        for j in range(len(conj[0])):\n",
    "            if i+j <= k:\n",
    "                proba += conj[i][j]\n",
    "    proby = 0\n",
    "    for i in range(len(conj[0])):\n",
    "        proby += conj[y][i]\n",
    "    probb = 0\n",
    "    for i in range(len(conj[0])):\n",
    "        probb += conj[y][i] / proby"
   ]
  },
  {
   "cell_type": "code",
   "execution_count": null,
   "metadata": {},
   "outputs": [],
   "source": []
  }
 ],
 "metadata": {
  "language_info": {
   "name": "python"
  },
  "orig_nbformat": 4
 },
 "nbformat": 4,
 "nbformat_minor": 2
}
